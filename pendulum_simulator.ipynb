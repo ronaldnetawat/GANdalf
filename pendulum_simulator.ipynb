{
 "cells": [
  {
   "cell_type": "code",
   "execution_count": 1,
   "metadata": {},
   "outputs": [],
   "source": [
    "import torch\n",
    "import numpy as np\n",
    "import matplotlib.pyplot as plt\n",
    "from matplotlib.animation import FuncAnimation\n",
    "from tqdm import tqdm \n",
    "import os\n",
    "import h5py"
   ]
  },
  {
   "cell_type": "code",
   "execution_count": null,
   "metadata": {},
   "outputs": [],
   "source": [
    "class PendulumSimulator:\n",
    "    # simulator for pendulum systems using pytorch for differentiable physics\n",
    "    def __init__(self, device=\"mps\"): # change device accordingly\n",
    "        # initialize the pendulum simulator\n",
    "        # Args: device(str): Device to run compuatations on\n",
    "        self.device = device\n",
    "        self.g = 9.81 # acceleration due to gravity (m/s^2)\n",
    "\n",
    "        # default params of the pendulum\n",
    "        self.L = 1.0 # lenght of pendulum string (m)\n",
    "        self.m = 1.0 # mass of bob (kg)\n",
    "\n",
    "    \n",
    "    def set_params(self, **kwargs):\n",
    "        # set the parameters for the pendulum system\n",
    "        for key, value in kwargs.items():\n",
    "            if hasattr(self, key):\n",
    "                setattr(self, key, value)\n",
    "            else:\n",
    "                raise ValueError(f\"parameter '{key}' invalid.\")\n",
    "            \n",
    "    # compute the derivatives for a simple pendulum\n",
    "    def dynamics(self, state, t=0):\n",
    "        '''\n",
    "        Arguments: state(torch.Tensor): State vector [theta, omega]: angle and velocity\n",
    "                   t (float): Time\n",
    "        Returns:\n",
    "                torch.Tensor: Derivatives [dTheta/dt, dOmega/dt]\n",
    "\n",
    "        '''\n",
    "        theta, omega = state[..., 0:1], state[..., 1:2]\n",
    "\n",
    "        # compute the derivatives\n",
    "        dTheta_dt=omega\n",
    "        dOmega_dt = -(self.g/self.L)*torch.sin(theta)\n",
    "\n",
    "        return torch.cat([dTheta_dt, dOmega_dt], dim=-1)\n",
    "\n",
    "\n",
    "    # perform a single step of runge-kutta 4 method\n",
    "    def rk4_step(self, state, dt):\n",
    "        k1 = self.dynamics(state)\n",
    "        k2 = self.dynamics(state + 0.5*dt*k1)\n",
    "        k3 = self.dynamics(state + 0.5*dt*k2)\n",
    "        k4 = self.dynamics(state + dt*k3)\n",
    "\n",
    "        return state+(dt/6.0)*(k1 + 2 * k2 + 2 * k3 + k4)\n",
    "\n",
    "\n",
    "    def simulate(self, initial_state, duration, dt=0.01, return_tensor=True):\n",
    "        \n",
    "\n",
    "    \n",
    "\n",
    "        \n"
   ]
  }
 ],
 "metadata": {
  "kernelspec": {
   "display_name": "base",
   "language": "python",
   "name": "python3"
  },
  "language_info": {
   "codemirror_mode": {
    "name": "ipython",
    "version": 3
   },
   "file_extension": ".py",
   "mimetype": "text/x-python",
   "name": "python",
   "nbconvert_exporter": "python",
   "pygments_lexer": "ipython3",
   "version": "3.12.7"
  }
 },
 "nbformat": 4,
 "nbformat_minor": 2
}
